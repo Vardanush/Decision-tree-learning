{
 "cells": [
  {
   "cell_type": "code",
   "execution_count": 1,
   "metadata": {},
   "outputs": [],
   "source": [
    "import pandas as pd\n",
    "import numpy as np\n",
    "from sklearn.model_selection import train_test_split\n",
    "from sklearn.preprocessing import StandardScaler\n",
    "from sklearn.linear_model import Lasso\n",
    "from sklearn import tree\n",
    "from sklearn import preprocessing\n",
    "from sklearn.preprocessing import Imputer\n",
    "\n",
    "import xgboost as xgb\n",
    "from xgboost.sklearn import XGBRegressor\n",
    "\n",
    "from sklearn.metrics import mean_squared_log_error\n",
    "from dateutil.parser import parse\n",
    "from sklearn.base import TransformerMixin\n",
    "import matplotlib.pyplot as plt\n",
    "from sklearn.model_selection import GridSearchCV"
   ]
  },
  {
   "cell_type": "code",
   "execution_count": 6,
   "metadata": {},
   "outputs": [],
   "source": [
    "class Transform(TransformerMixin):\n",
    "    def fit(self, X, y=None):\n",
    "        self.encoders = dict()\n",
    "        for column in X.columns:\n",
    "            if X.dtypes[column] == object:\n",
    "                self.encoders[column] = preprocessing.LabelEncoder()\n",
    "                self.encoders[column] = self.encoders[column].fit(X[column]) \n",
    "                \n",
    "            \n",
    "    def transform(self, X, y=None):\n",
    "        X = X.drop(['id'], axis=1)\n",
    "        X = X.fillna(X.mean(axis = 0))\n",
    "        X['timestamp'] = X.timestamp.apply(lambda x : parse(x).timestamp())\n",
    "        for column in self.encoders:\n",
    "            if column != 'timestamp':\n",
    "                X[column] = X[column].fillna(X[column].value_counts().index[0])\n",
    "                X[column] = self.encoders[column].transform(X[column])\n",
    "        return X"
   ]
  },
  {
   "cell_type": "code",
   "execution_count": 3,
   "metadata": {},
   "outputs": [],
   "source": [
    "class Scaler(TransformerMixin):\n",
    "    def fit(self, X, y=None):\n",
    "        self.scaler = dict()\n",
    "        for column in X.columns:\n",
    "            if column != 'price_doc':\n",
    "                self.scaler[column] = StandardScaler()\n",
    "                self.scaler[column] = self.scaler[column].fit(X[column].values.reshape(-1,1)) \n",
    "\n",
    "            \n",
    "    def transform(self, X, y=None):\n",
    "        for column in self.scaler:\n",
    "            X[column] = self.scaler[column].transform(X[column].values.reshape(-1,1))\n",
    "        return X\n"
   ]
  },
  {
   "cell_type": "code",
   "execution_count": 8,
   "metadata": {},
   "outputs": [],
   "source": [
    "train = pd.read_csv('train.csv')\n",
    "test = pd.read_csv('test.csv')\n"
   ]
  },
  {
   "cell_type": "code",
   "execution_count": 9,
   "metadata": {},
   "outputs": [
    {
     "name": "stderr",
     "output_type": "stream",
     "text": [
      "/anaconda3/lib/python3.6/site-packages/sklearn/utils/validation.py:475: DataConversionWarning: Data with input dtype int64 was converted to float64 by StandardScaler.\n",
      "  warnings.warn(msg, DataConversionWarning)\n"
     ]
    }
   ],
   "source": [
    "transf = Transform()\n",
    "transf.fit(train)\n",
    "train = transf.transform(train)\n",
    "test = transf.transform(test)\n",
    "\n",
    "scale = Scaler()\n",
    "scale.fit(train)\n",
    "train = scale.transform(train)\n",
    "test = scale.transform(test)"
   ]
  },
  {
   "cell_type": "code",
   "execution_count": 10,
   "metadata": {},
   "outputs": [],
   "source": [
    "target = ['price_doc']\n",
    "predictors = [col for col in train.columns if col not in target]"
   ]
  },
  {
   "cell_type": "code",
   "execution_count": 11,
   "metadata": {},
   "outputs": [],
   "source": [
    "booster = XGBRegressor()\n",
    "parameters = {'max_depth': range(2,8)}\n",
    "clf = GridSearchCV(booster,parameters)\n",
    "clf.fit(train[predictors], train[target])\n",
    "maxdepth = clf.best_params_['max_depth']\n"
   ]
  },
  {
   "cell_type": "code",
   "execution_count": 13,
   "metadata": {},
   "outputs": [
    {
     "data": {
      "text/plain": [
       "[]"
      ]
     },
     "execution_count": 13,
     "metadata": {},
     "output_type": "execute_result"
    },
    {
     "data": {
      "image/png": "[encoded data removed]",
      "text/plain": [
       "<matplotlib.figure.Figure at 0x1a1ec01518>"
      ]
     },
     "metadata": {},
     "output_type": "display_data"
    }
   ],
   "source": [
    "booster = XGBRegressor(max_depth = maxdepth)\n",
    "clf = booster.fit(train[predictors], train[target])\n",
    "feat_imp = pd.Series(clf.get_booster().get_fscore()).sort_values(ascending=False)[0:20]\n",
    "feat_imp.plot(kind='bar', title='Feature Importances')\n",
    "plt.ylabel('Feature Importance Score')\n",
    "plt.plot()"
   ]
  },
  {
   "cell_type": "code",
   "execution_count": 14,
   "metadata": {},
   "outputs": [],
   "source": [
    "predictors = list(feat_imp.keys())"
   ]
  },
  {
   "cell_type": "code",
   "execution_count": 16,
   "metadata": {},
   "outputs": [],
   "source": [
    "class Reg_model(TransformerMixin):\n",
    "    def fit(self, X, y):\n",
    "        regressor = Lasso()\n",
    "        data = X[['full_sq']]\n",
    "\n",
    "        parameters = {'alpha': np.linspace(0.01, 90, 100)}\n",
    "        clf = GridSearchCV(regressor, parameters)\n",
    "        clf.fit(data, train[target])\n",
    "        alfa = clf.best_params_['alpha']\n",
    "\n",
    "        regressor = Lasso(alpha = alfa)\n",
    "        self.reg = regressor.fit(data, y)\n",
    "        return self\n",
    "    \n",
    "    def transform(self, X, y= None):\n",
    "        data = X[['full_sq']]\n",
    "        self.price = self.reg.predict(data)\n",
    "        X['linear_price'] = self.price\n",
    "        return X"
   ]
  },
  {
   "cell_type": "code",
   "execution_count": 17,
   "metadata": {},
   "outputs": [
    {
     "name": "stderr",
     "output_type": "stream",
     "text": [
      "/anaconda3/lib/python3.6/site-packages/ipykernel_launcher.py:18: SettingWithCopyWarning: \n",
      "A value is trying to be set on a copy of a slice from a DataFrame.\n",
      "Try using .loc[row_indexer,col_indexer] = value instead\n",
      "\n",
      "See the caveats in the documentation: http://pandas.pydata.org/pandas-docs/stable/indexing.html#indexing-view-versus-copy\n"
     ]
    }
   ],
   "source": [
    "#Pipeline\n",
    "from sklearn.pipeline import Pipeline\n",
    "import pickle\n",
    "\n",
    "lasso = Reg_model()\n",
    "booster = XGBRegressor(max_depth = maxdepth)\n",
    "\n",
    "pipe = Pipeline([('Lasso', lasso), ('XGB', booster)])\n",
    "pipe = pipe.fit(train[predictors],train[target])"
   ]
  },
  {
   "cell_type": "code",
   "execution_count": 18,
   "metadata": {},
   "outputs": [
    {
     "name": "stdout",
     "output_type": "stream",
     "text": [
      "MSLE for train is: 0.20832612846189608\n"
     ]
    },
    {
     "name": "stderr",
     "output_type": "stream",
     "text": [
      "/anaconda3/lib/python3.6/site-packages/ipykernel_launcher.py:18: SettingWithCopyWarning: \n",
      "A value is trying to be set on a copy of a slice from a DataFrame.\n",
      "Try using .loc[row_indexer,col_indexer] = value instead\n",
      "\n",
      "See the caveats in the documentation: http://pandas.pydata.org/pandas-docs/stable/indexing.html#indexing-view-versus-copy\n"
     ]
    }
   ],
   "source": [
    "price_train = pipe.predict(train[predictors])\n",
    "print('MSLE for train is:',mean_squared_log_error(price_train,train[target]))"
   ]
  },
  {
   "cell_type": "code",
   "execution_count": 19,
   "metadata": {},
   "outputs": [
    {
     "name": "stdout",
     "output_type": "stream",
     "text": [
      "Test price: [5596938.5 8813300.  5773667.5 ... 4989141.  5422178.  9181172. ]\n"
     ]
    },
    {
     "name": "stderr",
     "output_type": "stream",
     "text": [
      "/anaconda3/lib/python3.6/site-packages/ipykernel_launcher.py:18: SettingWithCopyWarning: \n",
      "A value is trying to be set on a copy of a slice from a DataFrame.\n",
      "Try using .loc[row_indexer,col_indexer] = value instead\n",
      "\n",
      "See the caveats in the documentation: http://pandas.pydata.org/pandas-docs/stable/indexing.html#indexing-view-versus-copy\n"
     ]
    }
   ],
   "source": [
    "price_test = pipe.predict(test[predictors])\n",
    "print('Test price:', price_test)"
   ]
  },
  {
   "cell_type": "code",
   "execution_count": 20,
   "metadata": {},
   "outputs": [],
   "source": [
    "file = pd.read_csv('sample_submission.csv')\n",
    "file.price_doc = price_test\n",
    "file.to_csv('sample_submission.csv',index=False)"
   ]
  }
 ],
 "metadata": {
  "kernelspec": {
   "display_name": "Python 3",
   "language": "python",
   "name": "python3"
  },
  "language_info": {
   "codemirror_mode": {
    "name": "ipython",
    "version": 3
   },
   "file_extension": ".py",
   "mimetype": "text/x-python",
   "name": "python",
   "nbconvert_exporter": "python",
   "pygments_lexer": "ipython3",
   "version": "3.6.4"
  }
 },
 "nbformat": 4,
 "nbformat_minor": 2
}
